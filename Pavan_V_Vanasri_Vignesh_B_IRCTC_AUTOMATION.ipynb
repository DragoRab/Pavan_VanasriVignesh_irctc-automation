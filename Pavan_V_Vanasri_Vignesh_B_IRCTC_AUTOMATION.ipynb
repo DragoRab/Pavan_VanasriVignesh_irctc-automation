#irct automation
from selenium.webdriver.common.by import By
from selenium import webdriver
from selenium.webdriver.common.keys import Keys
import time

#opening chrome and irctc:
def opener():
    driver=webdriver.Chrome(executable_path=r'C:\Users\tomeb\Vicky Python\chromedriver')
    driver.get("https://google.co.in")
    driver.implicitly_wait(5)
    driver.get("https://www.irctc.co.in/nget/train-search")
    time.sleep(1)
    #condition ok
    my=driver.find_element_by_xpath('/html/body/app-root/app-home/div[1]/app-header/p-dialog[2]/div/div/div[2]/div/form/div[2]/button')
    my.click()
    time.sleep(2)
    return driver

#from
def fro(fromer,driver):
    my_element=driver.find_element_by_xpath('//*[@id="origin"]/span/input')
    my_element.send_keys(fromer)
    time.sleep(2)
    my=driver.find_element_by_xpath(f'//*[@id="origin"]/span/input')
    my.click()
    my=driver.find_element_by_xpath(f'//*[@id="pr_id_1_list"]/li[2]')
    my.click()
    time.sleep(2)

#to
def to(toer,driver):
    element=driver.find_element_by_xpath('//*[@id="destination"]/span/input')
    element.send_keys(toer)
    time.sleep(2)
    my=driver.find_element_by_xpath(f'//*[@id="destination"]/span/input')
    my.click()
    my=driver.find_element_by_xpath(f'//*[@id="pr_id_2_list"]/li[1]')
    my.click()
    time.sleep(2)

#dropdown- type of ticket
def droptt(tt,driver):
    my=driver.find_element_by_xpath('//*[@id="journeyQuota"]/div/div[3]/span')
    my.click()
    my=driver.find_element_by_xpath(f'//*[@id="journeyQuota"]/div/div[4]/div/ul/p-dropdownitem[{tt}]/li')
    my.click()
    if tt==3 or tt==4:
        my=driver.find_element_by_xpath(f'//*[@id="divMain"]/div/app-main-page/div/div/div[1]/div[1]/div[1]/app-jp-input/p-confirmdialog/div/div/div[3]/button/span[2]')
        my.click()
        time.sleep(2)
    else: time.sleep(2)

#dropdown-class
def droptc(tc,driver):
    my=driver.find_element_by_xpath('//*[@id="journeyClass"]/div/div[3]/span')
    my.click()
    my=driver.find_element_by_xpath(f'//*[@id="journeyClass"]/div/div[4]/div/ul/p-dropdownitem[{tc}]/li/span')
    my.click()
    time.sleep(2)

#set date
def setdate(driver):
    my=driver.find_element_by_xpath(f'//*[@id="jDate"]/span/input')
    my.click()
    time.sleep(15)
    book_button=driver.find_element_by_xpath('//*[@id="divMain"]/div/app-main-page/div/div/div[1]/div[1]/div[1]/app-jp-input/div/form/div[5]/div/button')
    book_button.click()
    time.sleep(10)
    my=driver.find_element_by_xpath(f'//*[@id="divMain"]/div/app-main-page/div/div/div[1]/div[1]/div[1]/app-jp-input/p-confirmdialog/div/div/div[3]/button/span[2]')
    my.click()
    time.sleep(2)    

#select search
def search(driver):
    v=driver.find_element_by_xpath('//*[@id="divMain"]/div/app-train-list/div[4]/div/div[5]/div[1]/div[1]/app-train-avl-enq/div[1]/div[5]/div/table/tr/td[2]/div')
    v.click() 
    
def main():
    #inputs
    #tt- type of ticket
    tt=int(input(f'1.General\n2.Ladies\n3.Senior Citizen\n4.Specially abled\n5.Tatkal\n6.Premium Tatkal\n Select: '))
    #tc- class of ticket
    tc=int(input(f'1.All Classes\n2.Anubhuti Class(EA)\n3.AC First Class(1A)\n4.Exec Chair Car(EC)\n5.AC 2 Tier(2A)\n6.First Class(FC)\n7.AC 3 Tier(3A)\n8.AC 3 Economy(3E)\n9.AC Chair Car(CC)\n10.Sleeper(SL)\n11.Second Sitting(2S)\n Select:'))
    #from-to
    fromer=input('from? ')
    toer=input('to? ')
    
    d=opener()  
    fro(fromer,d)
    to(toer,d)
    droptt(tt,d)
    droptc(tc,d)
    setdate(d)
    search(d)  
main()
